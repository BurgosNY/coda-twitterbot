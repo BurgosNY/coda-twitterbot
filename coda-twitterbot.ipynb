{
 "cells": [
  {
   "cell_type": "markdown",
   "metadata": {},
   "source": [
    "# 1. Ligando o Twitter"
   ]
  },
  {
   "cell_type": "code",
   "execution_count": null,
   "metadata": {},
   "outputs": [],
   "source": [
    "%load_ext autoreload\n",
    "%autoreload 2\n",
    "\n",
    "#Inicializando o twitter bot\n",
    "import tweepy\n",
    "import settings\n",
    "\n",
    "# Acrescente os 4 valores encontrados nas configurações do seu \n",
    "# app no Twitter\n",
    "consumer_key = settings.CONSUMER_KEY\n",
    "consumer_secret = settings.CONSUMER_SECRET\n",
    "access_token = settings.ACCESS_TOKEN\n",
    "access_token_secret = settings.ACCESS_TOKEN_SECRET\n",
    "\n",
    "# Inicializando o Twitter usando Tweepy\n",
    "auth = tweepy.OAuthHandler(consumer_key, consumer_secret)\n",
    "auth.set_access_token(access_token, access_token_secret)\n",
    "bot = tweepy.API(auth)"
   ]
  },
  {
   "cell_type": "code",
   "execution_count": null,
   "metadata": {},
   "outputs": [],
   "source": [
    "# testando o tweepy:\n",
    "bot.get_user('burgos')"
   ]
  },
  {
   "cell_type": "code",
   "execution_count": null,
   "metadata": {},
   "outputs": [],
   "source": [
    "# Mais legível:\n",
    "burgos = bot.get_user('burgos')._json\n",
    "burgos"
   ]
  },
  {
   "cell_type": "code",
   "execution_count": null,
   "metadata": {},
   "outputs": [],
   "source": [
    "# Escrevendo uma mensagem:\n",
    "bot.update_status('Testando!')"
   ]
  },
  {
   "cell_type": "code",
   "execution_count": null,
   "metadata": {},
   "outputs": [],
   "source": [
    "# Deixando a imagem mais animada, usando esse dicionário:\n",
    "# https://www.webpagefx.com/tools/emoji-cheat-sheet/\n",
    "import emoji\n",
    "emoji.emojize(\":robot_face:\")"
   ]
  },
  {
   "cell_type": "markdown",
   "metadata": {},
   "source": [
    "# 2. Fazendo uma busca no Twitter"
   ]
  },
  {
   "cell_type": "code",
   "execution_count": null,
   "metadata": {},
   "outputs": [],
   "source": [
    "# Criando uma busca:\n",
    "busca = bot.search('#CodaBr18')"
   ]
  },
  {
   "cell_type": "code",
   "execution_count": null,
   "metadata": {},
   "outputs": [],
   "source": [
    "# Exemplo de um tweet encontrado na busca:\n",
    "busca[0]._json"
   ]
  },
  {
   "cell_type": "code",
   "execution_count": null,
   "metadata": {},
   "outputs": [],
   "source": [
    "# Quais dados do tweet queremos usar?\n",
    "def limpar_tweet(tweet_bruto):\n",
    "    data = tweet_bruto._json\n",
    "    status_id = data['id']\n",
    "    user = data['user']['screen_name']\n",
    "    return {\"status_id\": status_id, \"user\": user}"
   ]
  },
  {
   "cell_type": "code",
   "execution_count": null,
   "metadata": {},
   "outputs": [],
   "source": [
    "limpar_tweet(busca[0])"
   ]
  },
  {
   "cell_type": "markdown",
   "metadata": {},
   "source": [
    "## 🎶 Interlúdio sobre bots nas eleições 🎶"
   ]
  },
  {
   "cell_type": "code",
   "execution_count": null,
   "metadata": {},
   "outputs": [],
   "source": [
    "# Fazendo scrape de uma lista de hashtags bombando na lista\n",
    "from bs4 import BeautifulSoup as bs\n",
    "import requests\n",
    "\n",
    "soup = bs(requests.get('https://trends24.in/brazil/').content, \"html.parser\")\n",
    "hashtags = [x.text for x in soup.find(\"ol\", {\"class\": \"trend-card__list\"}).find_all(\"li\")]\n",
    "hashtags"
   ]
  },
  {
   "cell_type": "code",
   "execution_count": null,
   "metadata": {},
   "outputs": [],
   "source": [
    "# Criamos um textinho com as principais hashtags\n",
    "hashtags = (' ').join([hashtag for hashtag in hashtags[:4]])"
   ]
  },
  {
   "cell_type": "code",
   "execution_count": null,
   "metadata": {},
   "outputs": [],
   "source": [
    "# Criamos uma lista de possíveis mensagens\n",
    "mensagens_possiveis = [\n",
    "    \"Isso é mentira! Vote em Pedro Burgos 2022\",\n",
    "    \"O Brasil precisa de Pedro Burgos agora\"\n",
    "]"
   ]
  },
  {
   "cell_type": "code",
   "execution_count": null,
   "metadata": {},
   "outputs": [],
   "source": [
    "# Selecionamos uma aleatória\n",
    "import random\n",
    "msg = random.choice(mensagens_possiveis)"
   ]
  },
  {
   "cell_type": "code",
   "execution_count": null,
   "metadata": {},
   "outputs": [],
   "source": [
    "# Criamos a mensagem\n",
    "tweet = f'{msg} {hashtags}'"
   ]
  },
  {
   "cell_type": "code",
   "execution_count": null,
   "metadata": {},
   "outputs": [],
   "source": [
    "# Tuitamos\n",
    "bot.update_status(tweet)"
   ]
  },
  {
   "cell_type": "markdown",
   "metadata": {},
   "source": [
    "# 3. Ligando todas as coisas"
   ]
  },
  {
   "cell_type": "markdown",
   "metadata": {},
   "source": [
    "### Passos:\n",
    "1. Buscar por alguma hashtag específica no Twitter  \n",
    "2. Selecionar o principal tweet  \n",
    "3. Tuitar para a pessoas  \n",
    "\n",
    "Vamos criar funções!"
   ]
  },
  {
   "cell_type": "code",
   "execution_count": null,
   "metadata": {},
   "outputs": [],
   "source": [
    "# Com o bot do Twitter já inicializado, Criamos duas funções\n",
    "\n",
    "# Melhoramos a função de limpar tweets, para ter mais informações \n",
    "# dos usuários\n",
    "def limpar_tweet(tweet_bruto):\n",
    "    data = tweet_bruto._json\n",
    "    status_id = data['id']\n",
    "    user = data['user']['screen_name']\n",
    "    rts = data['retweet_count']\n",
    "    favs = data['favorite_count']\n",
    "    followers = data['user']['followers_count']\n",
    "    text = data['text']\n",
    "    retweet = False\n",
    "    if text.startswith('RT @'):\n",
    "        retweet = True\n",
    "    return {\"status_id\": status_id, \"user\": user,\n",
    "            \"rts\": rts, \"favs\": favs,\n",
    "            \"followers\": followers, \"text\": text,\n",
    "            \"retweeted\": retweet}\n",
    "    \n",
    "\n",
    "# Agora, a busca pode retornar uma lista de tweets limpos\n",
    "def buscar_tweets(termo):\n",
    "    tweets = []\n",
    "    busca = bot.search(termo)\n",
    "    for tweet in busca:\n",
    "        tweet_limpo = limpar_tweet(tweet)\n",
    "        # Só queremos tuites originais!\n",
    "        if tweet_limpo['retweeted'] == False:\n",
    "            tweets.append(tweet_limpo)\n",
    "    return tweets\n",
    "    "
   ]
  },
  {
   "cell_type": "code",
   "execution_count": null,
   "metadata": {},
   "outputs": [],
   "source": [
    "# Rodamos a nova função\n",
    "busca = buscar_tweets('#CodaBr18')\n",
    "busca"
   ]
  },
  {
   "cell_type": "code",
   "execution_count": null,
   "metadata": {},
   "outputs": [],
   "source": [
    "# visualizando melhor a busca com pandas\n",
    "import pandas as pd\n",
    "df = pd.DataFrame(busca).sort_values('rts', ascending=False)\n",
    "df"
   ]
  },
  {
   "cell_type": "code",
   "execution_count": null,
   "metadata": {},
   "outputs": [],
   "source": [
    "# Reordenando a lista usando pandas e devolvendo uma lista de dicionários\n",
    "df.to_dict(orient='rts')\n",
    "\n",
    "# Você pode exportar a busca:\n",
    "df.to_csv('busca_twitter.csv')\n",
    "\n",
    "# outra maneira de fazer\n",
    "from operator import itemgetter \n",
    "busca_ordenada = sorted(busca, key=itemgetter('favs'), reverse=True)"
   ]
  },
  {
   "cell_type": "code",
   "execution_count": null,
   "metadata": {},
   "outputs": [],
   "source": [
    "# Agora selecionamos o tweet com mais engajamento:\n",
    "candidato = busca_ordenada[0]"
   ]
  },
  {
   "cell_type": "code",
   "execution_count": null,
   "metadata": {},
   "outputs": [],
   "source": [
    "# O que vamos falar pra ele?\n",
    "mensagens_possiveis = [\"Legal isso. Mas você viu o workshop do @burgos? Tem o código aqui: https://github.com/BurgosNY/coda-twitterbot\",\n",
    "                       \"Essa palestra foi quase tão legal quanto a do @burgos. Olha só: https://github.com/BurgosNY/coda-twitterbot\"]\n"
   ]
  },
  {
   "cell_type": "code",
   "execution_count": null,
   "metadata": {},
   "outputs": [],
   "source": [
    "# Criamos uma função de enviar tweets:\n",
    "def enviar_tweet(busca, mensagens_possiveis):\n",
    "    busca_ordenada = sorted(busca, key=itemgetter('rts'), reverse=True)\n",
    "    candidato = busca_ordenada[0]\n",
    "    user = candidato['user']\n",
    "    msg = random.choice(mensagens_possiveis)\n",
    "    text = f'@{user} {msg}' \n",
    "    bot.update_status(text, in_reply_to_status_id=candidato['status_id'])\n",
    "    print('Tweet enviado!')"
   ]
  },
  {
   "cell_type": "code",
   "execution_count": null,
   "metadata": {},
   "outputs": [],
   "source": [
    "# Agora, tudo junto:\n",
    "def twitterbot():\n",
    "    termo = input('O que você busca? >')\n",
    "    busca = buscar_tweets(termo)\n",
    "    opcao1 = input('O que você quer tuitar? >')\n",
    "    opcao2 = input('Dê outra opção >')\n",
    "    enviar_tweet(busca, [opcao1, opcao2])"
   ]
  },
  {
   "cell_type": "code",
   "execution_count": null,
   "metadata": {},
   "outputs": [],
   "source": [
    "# Testando:\n",
    "twitterbot()"
   ]
  },
  {
   "cell_type": "code",
   "execution_count": null,
   "metadata": {},
   "outputs": [],
   "source": []
  }
 ],
 "metadata": {
  "kernelspec": {
   "display_name": "Python 3",
   "language": "python",
   "name": "python3"
  },
  "language_info": {
   "codemirror_mode": {
    "name": "ipython",
    "version": 3
   },
   "file_extension": ".py",
   "mimetype": "text/x-python",
   "name": "python",
   "nbconvert_exporter": "python",
   "pygments_lexer": "ipython3",
   "version": "3.6.3"
  }
 },
 "nbformat": 4,
 "nbformat_minor": 2
}
